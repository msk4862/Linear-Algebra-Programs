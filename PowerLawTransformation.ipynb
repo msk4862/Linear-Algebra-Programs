{
 "cells": [
  {
   "cell_type": "code",
   "execution_count": 1,
   "metadata": {},
   "outputs": [],
   "source": [
    "import cv2\n",
    "import numpy as np"
   ]
  },
  {
   "cell_type": "code",
   "execution_count": 4,
   "metadata": {},
   "outputs": [],
   "source": [
    "img = cv2.imread('data/lena.jpg', 1)\n",
    "\n",
    "# Apply Gamma=2.2 on the normalised image and then multiply by scaling constant (For 8 bit, c=255)\n",
    "gamma_two_point_two = np.array(255*(img/255)**2.2,dtype=np.uint8)\n",
    "\n",
    "# Similarly, Apply Gamma=0.4 \n",
    "gamma_point_four = np.array(255*(img/255)**0.4,dtype= np.uint8)\n",
    "\n",
    "# Display the images in subplots\n",
    "img3 = cv2.hconcat([gamma_two_point_two,gamma_point_four])\n",
    "\n",
    "cv2.imshow('Original',img)\n",
    "cv2.imshow('image',img3)\n",
    "cv2.waitKey(0)\n",
    "cv2.destroyAllWindows()"
   ]
  },
  {
   "cell_type": "code",
   "execution_count": null,
   "metadata": {},
   "outputs": [],
   "source": []
  }
 ],
 "metadata": {
  "kernelspec": {
   "display_name": "Python 3",
   "language": "python",
   "name": "python3"
  },
  "language_info": {
   "codemirror_mode": {
    "name": "ipython",
    "version": 3
   },
   "file_extension": ".py",
   "mimetype": "text/x-python",
   "name": "python",
   "nbconvert_exporter": "python",
   "pygments_lexer": "ipython3",
   "version": "3.7.1"
  }
 },
 "nbformat": 4,
 "nbformat_minor": 2
}
