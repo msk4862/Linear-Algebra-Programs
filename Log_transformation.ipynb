{
 "cells": [
  {
   "cell_type": "code",
   "execution_count": 2,
   "metadata": {},
   "outputs": [],
   "source": [
    "import cv2\n",
    "import numpy as np"
   ]
  },
  {
   "cell_type": "code",
   "execution_count": null,
   "metadata": {},
   "outputs": [
    {
     "name": "stderr",
     "output_type": "stream",
     "text": [
      "C:\\Users\\msk\\Anaconda3\\lib\\site-packages\\ipykernel_launcher.py:4: RuntimeWarning: divide by zero encountered in log\n",
      "  after removing the cwd from sys.path.\n"
     ]
    }
   ],
   "source": [
    "img = cv2.imread('data/lena.jpg', 1)\n",
    "\n",
    "# Apply log transform\n",
    "img_log = (np.log(img+1)/(np.log(1+np.max(img))))*255\n",
    "\n",
    "#Specify Data type (converting float16 array to unit8)\n",
    "img_log = np.array(img_log,dtype=np.uint8)\n",
    "\n",
    "# Display the image\n",
    "cv2.imshow('log_image',img_log)\n",
    "cv2.imshow('original_img',img)\n",
    "cv2.waitKey(0)\n",
    "cv2.destroyAllWindows()"
   ]
  },
  {
   "cell_type": "code",
   "execution_count": 11,
   "metadata": {},
   "outputs": [
    {
     "name": "stderr",
     "output_type": "stream",
     "text": [
      "C:\\Users\\msk\\Anaconda3\\lib\\site-packages\\ipykernel_launcher.py:1: RuntimeWarning: divide by zero encountered in log\n",
      "  \"\"\"Entry point for launching an IPython kernel.\n"
     ]
    },
    {
     "data": {
      "text/plain": [
       "array([[[223.4, 226.9, 249.2],\n",
       "        [223. , 226.5, 249. ],\n",
       "        [222.6, 226.2, 249. ],\n",
       "        ...,\n",
       "        [222.6, 229.1, 251.4],\n",
       "        [216.5, 223.8, 248.1],\n",
       "        [205.2, 213.9, 243.1]],\n",
       "\n",
       "       [[223. , 226.5, 249. ],\n",
       "        [223. , 226.5, 249. ],\n",
       "        [223. , 226.5, 249. ],\n",
       "        ...,\n",
       "        [224.1, 230.6, 251.2],\n",
       "        [217.2, 224.9, 247.4],\n",
       "        [203.8, 213. , 241.1]],\n",
       "\n",
       "       [[223. , 226.5, 249. ],\n",
       "        [223. , 226.5, 249. ],\n",
       "        [223.4, 226.9, 249.2],\n",
       "        ...,\n",
       "        [223. , 230.1, 250.1],\n",
       "        [217.2, 225.2, 247.1],\n",
       "        [204.8, 214.4, 241.5]],\n",
       "\n",
       "       ...,\n",
       "\n",
       "       [[185. , 142.2, 203.1],\n",
       "        [184.2, 140. , 202.6],\n",
       "        [190.5, 154.8, 208.2],\n",
       "        ...,\n",
       "        [203.1, 196.6, 237.9],\n",
       "        [201. , 194.6, 237.9],\n",
       "        [198.5, 192.8, 237.9]],\n",
       "\n",
       "       [[185. , 135.4, 202.1],\n",
       "        [185.9, 137.8, 202.6],\n",
       "        [193.2, 160.8, 210.2],\n",
       "        ...,\n",
       "        [203.1, 195.4, 238.4],\n",
       "        [202.1, 196.6, 239.1],\n",
       "        [202.6, 197.2, 239.6]],\n",
       "\n",
       "       [[185.9, 137.8, 202.6],\n",
       "        [187.5, 142.2, 203.8],\n",
       "        [194.6, 163.4, 211.1],\n",
       "        ...,\n",
       "        [202.6, 194.6, 238. ],\n",
       "        [202.6, 197.2, 239.6],\n",
       "        [204.2, 198.5, 241. ]]], dtype=float16)"
      ]
     },
     "execution_count": 11,
     "metadata": {},
     "output_type": "execute_result"
    }
   ],
   "source": [
    "(np.log(img+1)/(np.log(1+np.max(img))))*255\n"
   ]
  },
  {
   "cell_type": "code",
   "execution_count": null,
   "metadata": {},
   "outputs": [],
   "source": []
  }
 ],
 "metadata": {
  "kernelspec": {
   "display_name": "Python 3",
   "language": "python",
   "name": "python3"
  },
  "language_info": {
   "codemirror_mode": {
    "name": "ipython",
    "version": 3
   },
   "file_extension": ".py",
   "mimetype": "text/x-python",
   "name": "python",
   "nbconvert_exporter": "python",
   "pygments_lexer": "ipython3",
   "version": "3.7.1"
  }
 },
 "nbformat": 4,
 "nbformat_minor": 2
}
