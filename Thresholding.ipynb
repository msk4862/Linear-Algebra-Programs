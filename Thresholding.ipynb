{
 "cells": [
  {
   "cell_type": "code",
   "execution_count": 1,
   "metadata": {},
   "outputs": [],
   "source": [
    "import cv2"
   ]
  },
  {
   "cell_type": "code",
   "execution_count": 5,
   "metadata": {},
   "outputs": [],
   "source": [
    "img = cv2.imread('data/lena.jpg', 1)"
   ]
  },
  {
   "cell_type": "code",
   "execution_count": 19,
   "metadata": {},
   "outputs": [],
   "source": [
    "# cv2.threshold(source, thresholdValue, maxVal, thresholdingTechnique)\n",
    "\n",
    "retval, threshold= cv2.threshold(img, 120, 255,cv2.THRESH_BINARY)\n",
    "retval1, threshold1= cv2.threshold(img, 120, 255,cv2.THRESH_BINARY_INV)\n",
    "retval2, threshold2= cv2.threshold(img, 125, 255,cv2.THRESH_TOZERO)\n",
    "retval3, threshold3= cv2.threshold(img, 120, 255,cv2.THRESH_TOZERO_INV)"
   ]
  },
  {
   "cell_type": "code",
   "execution_count": null,
   "metadata": {},
   "outputs": [],
   "source": [
    "cv2.imshow('Thresholding:THRESH_BINARY', threshold)\n",
    "cv2.imshow('Thresholding: THRESH_BINARY_INV', threshold1)\n",
    "cv2.imshow('Thresholding:THRESH_TOZERO', threshold2)\n",
    "cv2.imshow('Thresholding: THRESH_TOZERO_INV', threshold3)\n",
    "cv2.waitKey(0)\n",
    "cv2.destroyAllWindows()"
   ]
  },
  {
   "cell_type": "code",
   "execution_count": null,
   "metadata": {},
   "outputs": [],
   "source": []
  }
 ],
 "metadata": {
  "kernelspec": {
   "display_name": "Python 3",
   "language": "python",
   "name": "python3"
  },
  "language_info": {
   "codemirror_mode": {
    "name": "ipython",
    "version": 3
   },
   "file_extension": ".py",
   "mimetype": "text/x-python",
   "name": "python",
   "nbconvert_exporter": "python",
   "pygments_lexer": "ipython3",
   "version": "3.7.1"
  }
 },
 "nbformat": 4,
 "nbformat_minor": 2
}
